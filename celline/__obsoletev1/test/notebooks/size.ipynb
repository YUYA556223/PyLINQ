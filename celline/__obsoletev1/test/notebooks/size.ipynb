{
 "cells": [
  {
   "cell_type": "code",
   "execution_count": 12,
   "metadata": {},
   "outputs": [],
   "source": [
    "raw_size_text=\"10G\""
   ]
  },
  {
   "cell_type": "code",
   "execution_count": 13,
   "metadata": {},
   "outputs": [],
   "source": [
    "import re\n",
    "\n",
    "\n",
    "tb = re.search(\"T\", raw_size_text)\n",
    "gb = re.search(\"G\", raw_size_text)\n",
    "mb = re.search(\"M\", raw_size_text)\n",
    "kb = re.search(\"K\", raw_size_text)\n",
    "\n",
    "if tb is not None:\n",
    "    size = float(raw_size_text[0:tb.span()[0]]) * 1024\n",
    "elif gb is not None:\n",
    "    size = float(raw_size_text[0:gb.span()[0]])\n",
    "elif mb is not None:\n",
    "    size = float(raw_size_text[0:mb.span()[0]]) / 1024\n",
    "elif kb is not None:\n",
    "    size = float(raw_size_text[0:kb.span()[0]]) / (1024 ^ 2)\n",
    "else:\n",
    "    raise ValueError(f\"Could not convert size data: {raw_size_text}\")\n"
   ]
  },
  {
   "cell_type": "code",
   "execution_count": null,
   "metadata": {},
   "outputs": [],
   "source": []
  }
 ],
 "metadata": {
  "kernelspec": {
   "display_name": "Python 3.9.12 ('base')",
   "language": "python",
   "name": "python3"
  },
  "language_info": {
   "codemirror_mode": {
    "name": "ipython",
    "version": 3
   },
   "file_extension": ".py",
   "mimetype": "text/x-python",
   "name": "python",
   "nbconvert_exporter": "python",
   "pygments_lexer": "ipython3",
   "version": "3.9.12"
  },
  "orig_nbformat": 4,
  "vscode": {
   "interpreter": {
    "hash": "ec0b0d71d722fb46cb079d56437ab9562df3be41fb8e63e804c4ed95be65705b"
   }
  }
 },
 "nbformat": 4,
 "nbformat_minor": 2
}
