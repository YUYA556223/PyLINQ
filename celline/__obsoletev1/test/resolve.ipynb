{
 "cells": [
  {
   "cell_type": "code",
   "execution_count": 5,
   "metadata": {},
   "outputs": [],
   "source": [
    "import os\n",
    "import re\n",
    "from typing import List\n",
    "\n",
    "import numpy as np\n",
    "import pandas as pd\n",
    "from pandas import DataFrame\n",
    "\n",
    "from celline.utils.config import Config"
   ]
  },
  {
   "cell_type": "code",
   "execution_count": 18,
   "metadata": {},
   "outputs": [],
   "source": [
    "runtable = pd.read_csv(\n",
    "    \"../../test/runs.tsv\",\n",
    "    sep=\"\\t\"\n",
    ")"
   ]
  },
  {
   "cell_type": "code",
   "execution_count": 28,
   "metadata": {},
   "outputs": [
    {
     "name": "stdout",
     "output_type": "stream",
     "text": [
      "***** SRA Run Fixer *****\n",
      "--------------------------------------------\n",
      "┏ [1/1] Fix errors on SRR3879614.━━━━━━━━━━━━━━━━━━━━━━━━━━━━━━━━━━━━━━━━━━━━━━━━━━━━━━━━━━━━━━━━━━━━━━━━━━━━━━━━━━━━━━━━━┓\n",
      "┣ Refer to [https://trace.ncbi.nlm.nih.gov/Traces/index.html?view=run_browser&acc=SRR3879614&display=data-access]\n",
      "┗━━━━━━━━━━━━━━━━━━━━━━━━━━━━━━━━━━━━━━━━━━━━━━━━━━━━━━━━━━━━━━━━━━━━━━━━━━━━━━━━━━━━━━━━━━━━━━━━━━━━━━━━━━━━━━━━━━━━━━━━━┛\n"
     ]
    }
   ],
   "source": [
    "errors = runtable[runtable[\"filetype\"] == \"fastq\"]\n",
    "error_srrs = errors.drop_duplicates(\"run_id\")[\"run_id\"].tolist()\n",
    "print(\"***** SRA Run Fixer *****\")\n",
    "for index in range(len(error_srrs)):\n",
    "    srr_id = error_srrs[index]\n",
    "    gse_id: str = runtable[runtable[\"run_id\"] == srr_id][\"gse_id\"].iloc[0]\n",
    "    print(\n",
    "        f\"\"\"--------------------------------------------\n",
    "┏ [{index+1}/{len(error_srrs)}] Fix errors on {srr_id}.━━━━━━━━━━━━━━━━━━━━━━━━━━━━━━━━━━━━━━━━━━━━━━━━━━━━━━━━━━━━━━━━━━━━━━━━━━━━━━━━━━━━━━━━━┓\n",
    "┣ Refer to [https://trace.ncbi.nlm.nih.gov/Traces/index.html?view=run_browser&acc={srr_id}&display=data-access]\"\"\")\n",
    "    req_correct: bool = pd.isna(errors[errors[\"run_id\"] == srr_id][\"lane_id\"].iloc[0])  # type: ignore\n",
    "    if req_correct:\n",
    "        print(f\"┣ ERROR in lane id\")\n",
    "        exists_laneID: List[str] = [\n",
    "            x for x in runtable[runtable[\"gse_id\"] == gse_id][\"lane_id\"].unique().tolist() if x != \"nan\"]\n",
    "        lane_id = \"{:0=3}\".format(len(exists_laneID))\n",
    "        runtable.loc[runtable['run_id'] == srr_id, \"lane_id\"] = lane_id\n",
    "        print(f\"┣ ┗> fixed lane_id automatically to: {lane_id}\")\n",
    "    read_types: List[str] = errors[errors[\"run_id\"] == srr_id][\"read_type\"].tolist()\n",
    "    req_correct: bool = False\n",
    "    for read_type in read_types:\n",
    "        __req_correct = (read_type == \"nan\") | (read_type == \"\") | (pd.isna(read_type))\n",
    "        if not __req_correct:\n",
    "            __req_correct = re.match(pattern=r'[RI][12]', string=read_type) is None\n",
    "        if __req_correct:\n",
    "            req_correct = True\n",
    "            break\n",
    "    if req_correct:\n",
    "        print(f\"┣ ERROR in read type.\")\n",
    "        if len(read_types) == 1:\n",
    "            print(\n",
    "                \"┣ ┗> read_type should minimally contains R1 and R2. Delete this column.\")\n",
    "            print(\n",
    "                f\"┣ ┗> {read_types}\")\n",
    "            # runtable.drop(runtable[runtable['run_id'] == srr_id].index, axis=1)\n",
    "        elif len(read_types) == 2:\n",
    "            print(\"┣ ┗> fixed read_type automatically to: R1 and R2\")\n",
    "            runtable.loc[runtable['run_id'] == srr_id, \"read_type\"] = [\"R1\", \"R2\"]\n",
    "        elif len(read_types) == 3:\n",
    "            print(\"┣ ┣ Detected index file. Which one is index file?\")\n",
    "            targets: List[str] = [filename.split(\"/\")[-1] for filename in runtable[runtable[\"run_id\"] == srr_id][\"cloud_filepath\"].tolist()]\n",
    "            print(\n",
    "f\"\"\"\n",
    "┣ ┣ ┏ 1) {targets[0]}\n",
    "┣ ┣ ┣ 2) {targets[1]}\n",
    "┣ ┣ ┗ 3) {targets[3]}\n",
    "\"\"\"\n",
    "            )\n",
    "            new_read_type: List[str] = []\n",
    "            while True:\n",
    "                lindex = input(\"1, 2, 3\")\n",
    "                try:\n",
    "                    lindex = int(lindex, 10)\n",
    "                    if lindex <= 3 & lindex >= 1:\n",
    "                        if lindex == 1:\n",
    "                            new_read_type = [\"L1\", \"R1\", \"R2\"]\n",
    "                        elif lindex == 2:\n",
    "                            new_read_type = [\"R1\", \"L1\", \"R2\"]\n",
    "                        else:\n",
    "                            new_read_type = [\"R1\", \"R2\", \"L1\"]\n",
    "                        break\n",
    "                    else:\n",
    "                        print(\"Specify an integer value between 1 and 3.\")\n",
    "                except ValueError:\n",
    "                    print(\"Specify an integer value between 1 and 3.\")\n",
    "            runtable.loc[runtable['run_id'] == srr_id, \"read_type\"] = new_read_type\n",
    "    result = runtable[runtable['run_id'] == srr_id].iloc[0]\n",
    "    dumped_filename = f'{result[\"gsm_id\"]}_S1_L{result[\"lane_id\"]}_{result[\"read_type\"]}_001.fastq.gz'\n",
    "    dumped_filepath = f'{result[\"sample_name\"]}/0_dumped/{result[\"gsm_id\"]}/fastqs/rep{result[\"replicate\"]}/{dumped_filename}'\n",
    "    runtable[\"dumped_filename\"] = dumped_filename\n",
    "    runtable[\"dumped_filepath\"] = dumped_filepath\n",
    "    print(f\"┗━━━━━━━━━━━━━━━━━━━━━━━━━━━━━━━━━━━━━━━━━━━━━━━━━━━━━━━━━━━━━━━━━━━━━━━━━━━━━━━━━━━━━━━━━━━━━━━━━━━━━━━━━━━━━━━━━━━━━━━━━┛\")"
   ]
  },
  {
   "cell_type": "code",
   "execution_count": 21,
   "metadata": {},
   "outputs": [
    {
     "data": {
      "text/html": [
       "<div>\n",
       "<style scoped>\n",
       "    .dataframe tbody tr th:only-of-type {\n",
       "        vertical-align: middle;\n",
       "    }\n",
       "\n",
       "    .dataframe tbody tr th {\n",
       "        vertical-align: top;\n",
       "    }\n",
       "\n",
       "    .dataframe thead th {\n",
       "        text-align: right;\n",
       "    }\n",
       "</style>\n",
       "<table border=\"1\" class=\"dataframe\">\n",
       "  <thead>\n",
       "    <tr style=\"text-align: right;\">\n",
       "      <th></th>\n",
       "      <th>dumped_filepath</th>\n",
       "      <th>cloud_filepath</th>\n",
       "      <th>dumped_filename</th>\n",
       "      <th>egress</th>\n",
       "      <th>filetype</th>\n",
       "      <th>gse_id</th>\n",
       "      <th>gsm_id</th>\n",
       "      <th>lane_id</th>\n",
       "      <th>location</th>\n",
       "      <th>raw_filename</th>\n",
       "      <th>read_type</th>\n",
       "      <th>replicate</th>\n",
       "      <th>run_id</th>\n",
       "      <th>sample_id</th>\n",
       "      <th>sample_name</th>\n",
       "      <th>spieces</th>\n",
       "    </tr>\n",
       "  </thead>\n",
       "  <tbody>\n",
       "    <tr>\n",
       "      <th>0</th>\n",
       "      <td>TEST/0_dumped/GSM2230761/fastqs/rep0/GSM223076...</td>\n",
       "      <td>s3://sra-pub-src-7/SRR3879614/mouse1_lib1.R1.f...</td>\n",
       "      <td>GSM2230761_S1_LNone_None_001.fastq.gz</td>\n",
       "      <td>-</td>\n",
       "      <td>fastq</td>\n",
       "      <td>GSE84133</td>\n",
       "      <td>GSM2230761</td>\n",
       "      <td>001</td>\n",
       "      <td>AWS</td>\n",
       "      <td>mouse1_lib1.R1.fastq.gz</td>\n",
       "      <td>R1</td>\n",
       "      <td>0</td>\n",
       "      <td>SRR3879614</td>\n",
       "      <td>1</td>\n",
       "      <td>TEST</td>\n",
       "      <td>Musmusculus</td>\n",
       "    </tr>\n",
       "    <tr>\n",
       "      <th>1</th>\n",
       "      <td>TEST/0_dumped/GSM2230761/fastqs/rep0/GSM223076...</td>\n",
       "      <td>s3://sra-pub-src-5/SRR3879614/mouse1_lib1.R2.f...</td>\n",
       "      <td>GSM2230761_S1_LNone_None_001.fastq.gz</td>\n",
       "      <td>-</td>\n",
       "      <td>fastq</td>\n",
       "      <td>GSE84133</td>\n",
       "      <td>GSM2230761</td>\n",
       "      <td>001</td>\n",
       "      <td>AWS</td>\n",
       "      <td>mouse1_lib1.R2.fastq.gz</td>\n",
       "      <td>R2</td>\n",
       "      <td>0</td>\n",
       "      <td>SRR3879614</td>\n",
       "      <td>1</td>\n",
       "      <td>TEST</td>\n",
       "      <td>Musmusculus</td>\n",
       "    </tr>\n",
       "  </tbody>\n",
       "</table>\n",
       "</div>"
      ],
      "text/plain": [
       "                                     dumped_filepath  \\\n",
       "0  TEST/0_dumped/GSM2230761/fastqs/rep0/GSM223076...   \n",
       "1  TEST/0_dumped/GSM2230761/fastqs/rep0/GSM223076...   \n",
       "\n",
       "                                      cloud_filepath  \\\n",
       "0  s3://sra-pub-src-7/SRR3879614/mouse1_lib1.R1.f...   \n",
       "1  s3://sra-pub-src-5/SRR3879614/mouse1_lib1.R2.f...   \n",
       "\n",
       "                         dumped_filename egress filetype    gse_id  \\\n",
       "0  GSM2230761_S1_LNone_None_001.fastq.gz      -    fastq  GSE84133   \n",
       "1  GSM2230761_S1_LNone_None_001.fastq.gz      -    fastq  GSE84133   \n",
       "\n",
       "       gsm_id lane_id location             raw_filename read_type  replicate  \\\n",
       "0  GSM2230761     001      AWS  mouse1_lib1.R1.fastq.gz        R1          0   \n",
       "1  GSM2230761     001      AWS  mouse1_lib1.R2.fastq.gz        R2          0   \n",
       "\n",
       "       run_id  sample_id sample_name      spieces  \n",
       "0  SRR3879614          1        TEST  Musmusculus  \n",
       "1  SRR3879614          1        TEST  Musmusculus  "
      ]
     },
     "execution_count": 21,
     "metadata": {},
     "output_type": "execute_result"
    }
   ],
   "source": [
    "result"
   ]
  },
  {
   "cell_type": "code",
   "execution_count": 20,
   "metadata": {},
   "outputs": [
    {
     "data": {
      "text/html": [
       "<div>\n",
       "<style scoped>\n",
       "    .dataframe tbody tr th:only-of-type {\n",
       "        vertical-align: middle;\n",
       "    }\n",
       "\n",
       "    .dataframe tbody tr th {\n",
       "        vertical-align: top;\n",
       "    }\n",
       "\n",
       "    .dataframe thead th {\n",
       "        text-align: right;\n",
       "    }\n",
       "</style>\n",
       "<table border=\"1\" class=\"dataframe\">\n",
       "  <thead>\n",
       "    <tr style=\"text-align: right;\">\n",
       "      <th></th>\n",
       "      <th>dumped_filepath</th>\n",
       "      <th>cloud_filepath</th>\n",
       "      <th>dumped_filename</th>\n",
       "      <th>egress</th>\n",
       "      <th>filetype</th>\n",
       "      <th>gse_id</th>\n",
       "      <th>gsm_id</th>\n",
       "      <th>lane_id</th>\n",
       "      <th>location</th>\n",
       "      <th>raw_filename</th>\n",
       "      <th>read_type</th>\n",
       "      <th>replicate</th>\n",
       "      <th>run_id</th>\n",
       "      <th>sample_id</th>\n",
       "      <th>sample_name</th>\n",
       "      <th>spieces</th>\n",
       "    </tr>\n",
       "  </thead>\n",
       "  <tbody>\n",
       "    <tr>\n",
       "      <th>0</th>\n",
       "      <td>0    TEST\\n1    TEST\\nName: sample_name, dtype...</td>\n",
       "      <td>s3://sra-pub-src-7/SRR3879614/mouse1_lib1.R1.f...</td>\n",
       "      <td>0    GSM2230761\\n1    GSM2230761\\nName: gsm_id...</td>\n",
       "      <td>-</td>\n",
       "      <td>fastq</td>\n",
       "      <td>GSE84133</td>\n",
       "      <td>GSM2230761</td>\n",
       "      <td>001</td>\n",
       "      <td>AWS</td>\n",
       "      <td>mouse1_lib1.R1.fastq.gz</td>\n",
       "      <td>R1</td>\n",
       "      <td>0</td>\n",
       "      <td>SRR3879614</td>\n",
       "      <td>1</td>\n",
       "      <td>TEST</td>\n",
       "      <td>Musmusculus</td>\n",
       "    </tr>\n",
       "    <tr>\n",
       "      <th>1</th>\n",
       "      <td>0    TEST\\n1    TEST\\nName: sample_name, dtype...</td>\n",
       "      <td>s3://sra-pub-src-5/SRR3879614/mouse1_lib1.R2.f...</td>\n",
       "      <td>0    GSM2230761\\n1    GSM2230761\\nName: gsm_id...</td>\n",
       "      <td>-</td>\n",
       "      <td>fastq</td>\n",
       "      <td>GSE84133</td>\n",
       "      <td>GSM2230761</td>\n",
       "      <td>001</td>\n",
       "      <td>AWS</td>\n",
       "      <td>mouse1_lib1.R2.fastq.gz</td>\n",
       "      <td>R2</td>\n",
       "      <td>0</td>\n",
       "      <td>SRR3879614</td>\n",
       "      <td>1</td>\n",
       "      <td>TEST</td>\n",
       "      <td>Musmusculus</td>\n",
       "    </tr>\n",
       "  </tbody>\n",
       "</table>\n",
       "</div>"
      ],
      "text/plain": [
       "                                     dumped_filepath  \\\n",
       "0  0    TEST\\n1    TEST\\nName: sample_name, dtype...   \n",
       "1  0    TEST\\n1    TEST\\nName: sample_name, dtype...   \n",
       "\n",
       "                                      cloud_filepath  \\\n",
       "0  s3://sra-pub-src-7/SRR3879614/mouse1_lib1.R1.f...   \n",
       "1  s3://sra-pub-src-5/SRR3879614/mouse1_lib1.R2.f...   \n",
       "\n",
       "                                     dumped_filename egress filetype  \\\n",
       "0  0    GSM2230761\\n1    GSM2230761\\nName: gsm_id...      -    fastq   \n",
       "1  0    GSM2230761\\n1    GSM2230761\\nName: gsm_id...      -    fastq   \n",
       "\n",
       "     gse_id      gsm_id lane_id location             raw_filename read_type  \\\n",
       "0  GSE84133  GSM2230761     001      AWS  mouse1_lib1.R1.fastq.gz        R1   \n",
       "1  GSE84133  GSM2230761     001      AWS  mouse1_lib1.R2.fastq.gz        R2   \n",
       "\n",
       "   replicate      run_id  sample_id sample_name      spieces  \n",
       "0          0  SRR3879614          1        TEST  Musmusculus  \n",
       "1          0  SRR3879614          1        TEST  Musmusculus  "
      ]
     },
     "execution_count": 20,
     "metadata": {},
     "output_type": "execute_result"
    }
   ],
   "source": [
    "runtable"
   ]
  },
  {
   "cell_type": "code",
   "execution_count": 75,
   "metadata": {},
   "outputs": [
    {
     "data": {
      "text/plain": [
       "0"
      ]
     },
     "execution_count": 75,
     "metadata": {},
     "output_type": "execute_result"
    }
   ],
   "source": [
    "exists_laneID: List[str] = [\n",
    "    x for x in errors[errors[\"gse_id\"] == gse_id][\"lane_id\"].unique().tolist() if not np.isnan(x)]\n",
    "len(exists_laneID)\n"
   ]
  },
  {
   "cell_type": "code",
   "execution_count": 57,
   "metadata": {},
   "outputs": [
    {
     "data": {
      "text/plain": [
       "[nan, nan]"
      ]
     },
     "execution_count": 57,
     "metadata": {},
     "output_type": "execute_result"
    }
   ],
   "source": [
    "exists_laneID\n"
   ]
  },
  {
   "cell_type": "code",
   "execution_count": null,
   "metadata": {},
   "outputs": [],
   "source": []
  }
 ],
 "metadata": {
  "kernelspec": {
   "display_name": "Python 3.9.12 ('celline-oNvuf4EQ-py3.9')",
   "language": "python",
   "name": "python3"
  },
  "language_info": {
   "codemirror_mode": {
    "name": "ipython",
    "version": 3
   },
   "file_extension": ".py",
   "mimetype": "text/x-python",
   "name": "python",
   "nbconvert_exporter": "python",
   "pygments_lexer": "ipython3",
   "version": "3.9.12"
  },
  "orig_nbformat": 4,
  "vscode": {
   "interpreter": {
    "hash": "fbf4a2874c4d69717bb31ae97c18595c54a0390bf7da353a9652170a81f42eee"
   }
  }
 },
 "nbformat": 4,
 "nbformat_minor": 2
}
